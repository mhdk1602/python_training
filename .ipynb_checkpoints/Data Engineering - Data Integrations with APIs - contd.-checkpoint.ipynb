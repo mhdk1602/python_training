{
 "cells": [
  {
   "cell_type": "markdown",
   "id": "7b0a6a16",
   "metadata": {},
   "source": [
    "# 4. Working with REST APIs using Python\n",
    "\n",
    "<br><br>\n",
    "<font size=\"4\"><b>4.1 Data Transformation</b></font>\n",
    "\n",
    "<font size=\"4\">Data transformation involves manipulating data to convert it from one format or structure into another. We can include methods in our class that retrieve data from the API and transform it into a more usable format, such as converting it into a pandas DataFrame and performing operations on it.</font>"
   ]
  },
  {
   "cell_type": "code",
   "execution_count": 2,
   "id": "0d1d5187",
   "metadata": {},
   "outputs": [
    {
     "name": "stderr",
     "output_type": "stream",
     "text": [
      "INFO:root:GET Request to URL: https://jsonplaceholder.typicode.com/posts\n",
      "INFO:root:Response Status Code: 200\n",
      "INFO:root:Data Transformed to DataFrame:\n",
      "   userId  id                                              title  \\\n",
      "0       1   1  sunt aut facere repellat provident occaecati e...   \n",
      "1       1   2                                       qui est esse   \n",
      "2       1   3  ea molestias quasi exercitationem repellat qui...   \n",
      "3       1   4                               eum et est occaecati   \n",
      "4       1   5                                 nesciunt quas odio   \n",
      "\n",
      "                                                body  \n",
      "0  quia et suscipit\\nsuscipit recusandae consequu...  \n",
      "1  est rerum tempore vitae\\nsequi sint nihil repr...  \n",
      "2  et iusto sed quo iure\\nvoluptatem occaecati om...  \n",
      "3  ullam et saepe reiciendis voluptatem adipisci\\...  \n",
      "4  repudiandae veniam quaerat sunt sed\\nalias aut...  \n"
     ]
    },
    {
     "name": "stdout",
     "output_type": "stream",
     "text": [
      "Data after Transformation:\n",
      "\n"
     ]
    },
    {
     "data": {
      "text/html": [
       "<div>\n",
       "<style scoped>\n",
       "    .dataframe tbody tr th:only-of-type {\n",
       "        vertical-align: middle;\n",
       "    }\n",
       "\n",
       "    .dataframe tbody tr th {\n",
       "        vertical-align: top;\n",
       "    }\n",
       "\n",
       "    .dataframe thead th {\n",
       "        text-align: right;\n",
       "    }\n",
       "</style>\n",
       "<table border=\"1\" class=\"dataframe\">\n",
       "  <thead>\n",
       "    <tr style=\"text-align: right;\">\n",
       "      <th></th>\n",
       "      <th>userId</th>\n",
       "      <th>id</th>\n",
       "      <th>title</th>\n",
       "      <th>body</th>\n",
       "      <th>title_length</th>\n",
       "    </tr>\n",
       "  </thead>\n",
       "  <tbody>\n",
       "    <tr>\n",
       "      <th>0</th>\n",
       "      <td>1</td>\n",
       "      <td>1</td>\n",
       "      <td>sunt aut facere repellat provident occaecati e...</td>\n",
       "      <td>quia et suscipit\\nsuscipit recusandae consequu...</td>\n",
       "      <td>74</td>\n",
       "    </tr>\n",
       "    <tr>\n",
       "      <th>1</th>\n",
       "      <td>1</td>\n",
       "      <td>2</td>\n",
       "      <td>qui est esse</td>\n",
       "      <td>est rerum tempore vitae\\nsequi sint nihil repr...</td>\n",
       "      <td>12</td>\n",
       "    </tr>\n",
       "    <tr>\n",
       "      <th>2</th>\n",
       "      <td>1</td>\n",
       "      <td>3</td>\n",
       "      <td>ea molestias quasi exercitationem repellat qui...</td>\n",
       "      <td>et iusto sed quo iure\\nvoluptatem occaecati om...</td>\n",
       "      <td>59</td>\n",
       "    </tr>\n",
       "    <tr>\n",
       "      <th>3</th>\n",
       "      <td>1</td>\n",
       "      <td>4</td>\n",
       "      <td>eum et est occaecati</td>\n",
       "      <td>ullam et saepe reiciendis voluptatem adipisci\\...</td>\n",
       "      <td>20</td>\n",
       "    </tr>\n",
       "    <tr>\n",
       "      <th>4</th>\n",
       "      <td>1</td>\n",
       "      <td>5</td>\n",
       "      <td>nesciunt quas odio</td>\n",
       "      <td>repudiandae veniam quaerat sunt sed\\nalias aut...</td>\n",
       "      <td>18</td>\n",
       "    </tr>\n",
       "    <tr>\n",
       "      <th>5</th>\n",
       "      <td>1</td>\n",
       "      <td>6</td>\n",
       "      <td>dolorem eum magni eos aperiam quia</td>\n",
       "      <td>ut aspernatur corporis harum nihil quis provid...</td>\n",
       "      <td>34</td>\n",
       "    </tr>\n",
       "    <tr>\n",
       "      <th>6</th>\n",
       "      <td>1</td>\n",
       "      <td>7</td>\n",
       "      <td>magnam facilis autem</td>\n",
       "      <td>dolore placeat quibusdam ea quo vitae\\nmagni q...</td>\n",
       "      <td>20</td>\n",
       "    </tr>\n",
       "    <tr>\n",
       "      <th>7</th>\n",
       "      <td>1</td>\n",
       "      <td>8</td>\n",
       "      <td>dolorem dolore est ipsam</td>\n",
       "      <td>dignissimos aperiam dolorem qui eum\\nfacilis q...</td>\n",
       "      <td>24</td>\n",
       "    </tr>\n",
       "    <tr>\n",
       "      <th>8</th>\n",
       "      <td>1</td>\n",
       "      <td>9</td>\n",
       "      <td>nesciunt iure omnis dolorem tempora et accusan...</td>\n",
       "      <td>consectetur animi nesciunt iure dolore\\nenim q...</td>\n",
       "      <td>50</td>\n",
       "    </tr>\n",
       "    <tr>\n",
       "      <th>9</th>\n",
       "      <td>1</td>\n",
       "      <td>10</td>\n",
       "      <td>optio molestias id quia eum</td>\n",
       "      <td>quo et expedita modi cum officia vel magni\\ndo...</td>\n",
       "      <td>27</td>\n",
       "    </tr>\n",
       "  </tbody>\n",
       "</table>\n",
       "</div>"
      ],
      "text/plain": [
       "   userId  id                                              title  \\\n",
       "0       1   1  sunt aut facere repellat provident occaecati e...   \n",
       "1       1   2                                       qui est esse   \n",
       "2       1   3  ea molestias quasi exercitationem repellat qui...   \n",
       "3       1   4                               eum et est occaecati   \n",
       "4       1   5                                 nesciunt quas odio   \n",
       "5       1   6                 dolorem eum magni eos aperiam quia   \n",
       "6       1   7                               magnam facilis autem   \n",
       "7       1   8                           dolorem dolore est ipsam   \n",
       "8       1   9  nesciunt iure omnis dolorem tempora et accusan...   \n",
       "9       1  10                        optio molestias id quia eum   \n",
       "\n",
       "                                                body  title_length  \n",
       "0  quia et suscipit\\nsuscipit recusandae consequu...            74  \n",
       "1  est rerum tempore vitae\\nsequi sint nihil repr...            12  \n",
       "2  et iusto sed quo iure\\nvoluptatem occaecati om...            59  \n",
       "3  ullam et saepe reiciendis voluptatem adipisci\\...            20  \n",
       "4  repudiandae veniam quaerat sunt sed\\nalias aut...            18  \n",
       "5  ut aspernatur corporis harum nihil quis provid...            34  \n",
       "6  dolore placeat quibusdam ea quo vitae\\nmagni q...            20  \n",
       "7  dignissimos aperiam dolorem qui eum\\nfacilis q...            24  \n",
       "8  consectetur animi nesciunt iure dolore\\nenim q...            50  \n",
       "9  quo et expedita modi cum officia vel magni\\ndo...            27  "
      ]
     },
     "execution_count": 2,
     "metadata": {},
     "output_type": "execute_result"
    }
   ],
   "source": [
    "import requests\n",
    "import json\n",
    "import logging\n",
    "import pandas as pd\n",
    "\n",
    "# Setting up logging\n",
    "logging.basicConfig(level=logging.INFO)\n",
    "\n",
    "class DataTransformationClient:\n",
    "    \"\"\"\n",
    "    A Python class that interacts with a REST API and demonstrates data \n",
    "    transformation operations using pandas.\n",
    "    \"\"\"\n",
    "    BASE_URL = \"https://jsonplaceholder.typicode.com\"\n",
    "    \n",
    "    def get_posts(self):\n",
    "        \"\"\"Fetches and returns all posts as a pandas DataFrame.\"\"\"\n",
    "        url = f\"{self.BASE_URL}/posts\"\n",
    "        response = requests.get(url)\n",
    "        \n",
    "        # Transforming the JSON response to a pandas DataFrame\n",
    "        data = response.json()\n",
    "        df = pd.DataFrame(data)\n",
    "        \n",
    "        # Logging the request and response details\n",
    "        logging.info(f\"GET Request to URL: {url}\")\n",
    "        logging.info(f\"Response Status Code: {response.status_code}\")\n",
    "        logging.info(f\"Data Transformed to DataFrame:\\n{df.head()}\")  # Displaying the first few rows of the DataFrame\n",
    "        \n",
    "        return df\n",
    "\n",
    "# Example usage:\n",
    "client = DataTransformationClient()\n",
    "df = client.get_posts()\n",
    "\n",
    "# Performing data transformation operations on the DataFrame\n",
    "df['title_length'] = df['title'].apply(len)\n",
    "print(f\"Data after Transformation:\\n\")\n",
    "df.head(10)# Displaying the data after transformation"
   ]
  },
  {
   "cell_type": "markdown",
   "id": "8c89e4e1",
   "metadata": {},
   "source": [
    "<font size=\"3\"><b>Note: </b>In this script, the get_posts method fetches all posts from the API and transforms the JSON response into a pandas DataFrame. We then perform a simple data transformation operation where we calculate the length of each post's title and add it as a new column in the DataFrame.</font>"
   ]
  },
  {
   "cell_type": "markdown",
   "id": "66614e82",
   "metadata": {},
   "source": [
    "<br>\n",
    "<font size=\"4\"><b>4.2 Data Visualization</b></font>\n",
    "\n",
    "<font size=\"4\">Data visualization involves representing data in a graphical format, such as charts or graphs, to help people understand the patterns, trends, and insights in data. We can extend our class to include a method that visualizes the data retrieved from the API.<br>\n",
    "We'll visualize the distribution of title lengths that we calculated in the data transformation step using a histogram.</font>"
   ]
  },
  {
   "cell_type": "code",
   "execution_count": 3,
   "id": "070c5e66",
   "metadata": {},
   "outputs": [
    {
     "name": "stderr",
     "output_type": "stream",
     "text": [
      "INFO:root:GET Request to URL: https://jsonplaceholder.typicode.com/posts\n",
      "INFO:root:Response Status Code: 200\n",
      "INFO:root:Data Transformed to DataFrame:\n",
      "   userId  id                                              title  \\\n",
      "0       1   1  sunt aut facere repellat provident occaecati e...   \n",
      "1       1   2                                       qui est esse   \n",
      "2       1   3  ea molestias quasi exercitationem repellat qui...   \n",
      "3       1   4                               eum et est occaecati   \n",
      "4       1   5                                 nesciunt quas odio   \n",
      "\n",
      "                                                body  \n",
      "0  quia et suscipit\\nsuscipit recusandae consequu...  \n",
      "1  est rerum tempore vitae\\nsequi sint nihil repr...  \n",
      "2  et iusto sed quo iure\\nvoluptatem occaecati om...  \n",
      "3  ullam et saepe reiciendis voluptatem adipisci\\...  \n",
      "4  repudiandae veniam quaerat sunt sed\\nalias aut...  \n"
     ]
    },
    {
     "data": {
      "image/png": "[encoded data removed]",
      "text/plain": [
       "<Figure size 432x288 with 1 Axes>"
      ]
     },
     "metadata": {
      "needs_background": "light"
     },
     "output_type": "display_data"
    }
   ],
   "source": [
    "import requests\n",
    "import json\n",
    "import logging\n",
    "import pandas as pd\n",
    "import matplotlib.pyplot as plt\n",
    "\n",
    "# Setting up logging\n",
    "logging.basicConfig(level=logging.INFO)\n",
    "\n",
    "class DataVisualizationClient:\n",
    "    \"\"\"\n",
    "    A Python class that interacts with a REST API and demonstrates data \n",
    "    visualization using matplotlib.\n",
    "    \"\"\"\n",
    "    BASE_URL = \"https://jsonplaceholder.typicode.com\"\n",
    "    \n",
    "    def get_posts(self):\n",
    "        \"\"\"Fetches and returns all posts as a pandas DataFrame and visualizes data.\"\"\"\n",
    "        url = f\"{self.BASE_URL}/posts\"\n",
    "        response = requests.get(url)\n",
    "        \n",
    "        # Transforming the JSON response to a pandas DataFrame\n",
    "        data = response.json()\n",
    "        df = pd.DataFrame(data)\n",
    "        \n",
    "        # Logging the request and response details\n",
    "        logging.info(f\"GET Request to URL: {url}\")\n",
    "        logging.info(f\"Response Status Code: {response.status_code}\")\n",
    "        logging.info(f\"Data Transformed to DataFrame:\\n{df.head()}\")  # Displaying the first few rows of the DataFrame\n",
    "        \n",
    "        # Performing data transformation operations on the DataFrame\n",
    "        df['title_length'] = df['title'].apply(len)\n",
    "        \n",
    "        # Visualizing the distribution of title lengths using a histogram\n",
    "        plt.hist(df['title_length'], bins=10, edgecolor='k', alpha=0.7)\n",
    "        plt.title('Distribution of Title Lengths')\n",
    "        plt.xlabel('Title Length')\n",
    "        plt.ylabel('Frequency')\n",
    "        plt.grid(axis='y')\n",
    "        plt.show()\n",
    "        \n",
    "        return df\n",
    "\n",
    "# Example usage:\n",
    "client = DataVisualizationClient()\n",
    "df = client.get_posts()"
   ]
  },
  {
   "cell_type": "markdown",
   "id": "4ea6bebd",
   "metadata": {},
   "source": [
    "<font size=\"3\"><b>Note: </b>In this script, we extended the get_posts method to include data visualization using matplotlib. After calculating the title lengths, we use matplotlib to create a histogram that visualizes the distribution of title lengths, providing insights into the data.\n",
    "<br><br>\n",
    "With this, we have created a comprehensive Python script that demonstrates data transformation and visualization based on data retrieved from a REST API, showcasing complex data engineering concepts.</font>"
   ]
  },
  {
   "cell_type": "markdown",
   "id": "b39d9f08",
   "metadata": {},
   "source": [
    "<br><br>\n",
    "<font size=\"4\">In the next example we will fetch data from multiple endpoints of the API, merge the data sets based on common keys, and perform more complex transformations like aggregation, grouping, and feature engineering.\n",
    "<br><br>\n",
    "We will also try to create more complex visualizations such as scatter plots, bar charts, and heatmaps to visualize different aspects of the data. We can also use seaborn for more aesthetically pleasing and informative visualizations.</font><br><br>"
   ]
  },
  {
   "cell_type": "code",
   "execution_count": 4,
   "id": "0fa171bd",
   "metadata": {},
   "outputs": [
    {
     "name": "stderr",
     "output_type": "stream",
     "text": [
      "INFO:root:Merged Data:\n",
      "   userId  id_post                                              title  \\\n",
      "0       1        1  sunt aut facere repellat provident occaecati e...   \n",
      "1       1        2                                       qui est esse   \n",
      "2       1        3  ea molestias quasi exercitationem repellat qui...   \n",
      "3       1        4                               eum et est occaecati   \n",
      "4       1        5                                 nesciunt quas odio   \n",
      "\n",
      "                                                body  id_user           name  \\\n",
      "0  quia et suscipit\\nsuscipit recusandae consequu...        1  Leanne Graham   \n",
      "1  est rerum tempore vitae\\nsequi sint nihil repr...        1  Leanne Graham   \n",
      "2  et iusto sed quo iure\\nvoluptatem occaecati om...        1  Leanne Graham   \n",
      "3  ullam et saepe reiciendis voluptatem adipisci\\...        1  Leanne Graham   \n",
      "4  repudiandae veniam quaerat sunt sed\\nalias aut...        1  Leanne Graham   \n",
      "\n",
      "  username              email  \\\n",
      "0     Bret  Sincere@april.biz   \n",
      "1     Bret  Sincere@april.biz   \n",
      "2     Bret  Sincere@april.biz   \n",
      "3     Bret  Sincere@april.biz   \n",
      "4     Bret  Sincere@april.biz   \n",
      "\n",
      "                                             address                  phone  \\\n",
      "0  {'street': 'Kulas Light', 'suite': 'Apt. 556',...  1-770-736-8031 x56442   \n",
      "1  {'street': 'Kulas Light', 'suite': 'Apt. 556',...  1-770-736-8031 x56442   \n",
      "2  {'street': 'Kulas Light', 'suite': 'Apt. 556',...  1-770-736-8031 x56442   \n",
      "3  {'street': 'Kulas Light', 'suite': 'Apt. 556',...  1-770-736-8031 x56442   \n",
      "4  {'street': 'Kulas Light', 'suite': 'Apt. 556',...  1-770-736-8031 x56442   \n",
      "\n",
      "         website                                            company  \\\n",
      "0  hildegard.org  {'name': 'Romaguera-Crona', 'catchPhrase': 'Mu...   \n",
      "1  hildegard.org  {'name': 'Romaguera-Crona', 'catchPhrase': 'Mu...   \n",
      "2  hildegard.org  {'name': 'Romaguera-Crona', 'catchPhrase': 'Mu...   \n",
      "3  hildegard.org  {'name': 'Romaguera-Crona', 'catchPhrase': 'Mu...   \n",
      "4  hildegard.org  {'name': 'Romaguera-Crona', 'catchPhrase': 'Mu...   \n",
      "\n",
      "   title_length  \n",
      "0            74  \n",
      "1            12  \n",
      "2            59  \n",
      "3            20  \n",
      "4            18  \n",
      "INFO:root:User Post Counts:\n",
      "   userId  post_count\n",
      "0       1          10\n",
      "1       2          10\n",
      "2       3          10\n",
      "3       4          10\n",
      "4       5          10\n",
      "5       6          10\n",
      "6       7          10\n",
      "7       8          10\n",
      "8       9          10\n",
      "9      10          10\n"
     ]
    },
    {
     "data": {
      "image/png": "[encoded data removed]",
      "text/plain": [
       "<Figure size 432x288 with 1 Axes>"
      ]
     },
     "metadata": {
      "needs_background": "light"
     },
     "output_type": "display_data"
    },
    {
     "name": "stderr",
     "output_type": "stream",
     "text": [
      "/var/folders/4k/1r4fv_1j0dvb38w891pxz3qw0000gn/T/ipykernel_97593/3183616006.py:52: FutureWarning: The default value of numeric_only in DataFrame.corr is deprecated. In a future version, it will default to False. Select only valid columns or specify the value of numeric_only to silence this warning.\n",
      "  correlation_matrix = merged_df.corr()\n"
     ]
    },
    {
     "data": {
      "image/png": "[encoded data removed]",
      "text/plain": [
       "<Figure size 432x288 with 2 Axes>"
      ]
     },
     "metadata": {
      "needs_background": "light"
     },
     "output_type": "display_data"
    }
   ],
   "source": [
    "import requests\n",
    "import json\n",
    "import logging\n",
    "import pandas as pd\n",
    "import matplotlib.pyplot as plt\n",
    "import seaborn as sns\n",
    "\n",
    "# Setting up logging\n",
    "logging.basicConfig(level=logging.INFO)\n",
    "\n",
    "class AdvancedDataClient:\n",
    "    \"\"\"\n",
    "    A Python class that interacts with a REST API and demonstrates complex \n",
    "    data engineering and advanced data visualization using pandas and seaborn.\n",
    "    \"\"\"\n",
    "    BASE_URL = \"https://jsonplaceholder.typicode.com\"\n",
    "    \n",
    "    def fetch_and_analyze_data(self):\n",
    "        \"\"\"Fetches data from multiple endpoints, performs complex data engineering, and visualizes data.\"\"\"\n",
    "        # Fetching data from multiple endpoints\n",
    "        posts_response = requests.get(f\"{self.BASE_URL}/posts\")\n",
    "        users_response = requests.get(f\"{self.BASE_URL}/users\")\n",
    "        \n",
    "        # Transforming JSON responses to pandas DataFrames\n",
    "        posts_df = pd.DataFrame(posts_response.json())\n",
    "        users_df = pd.DataFrame(users_response.json())\n",
    "        \n",
    "        # Merging data sets based on common keys (user ID)\n",
    "        merged_df = pd.merge(posts_df, users_df, left_on='userId', right_on='id', suffixes=('_post', '_user'))\n",
    "        \n",
    "        # Performing complex data engineering operations\n",
    "        merged_df['title_length'] = merged_df['title'].apply(len)\n",
    "        user_post_counts = merged_df['userId'].value_counts().reset_index()\n",
    "        user_post_counts.columns = ['userId', 'post_count']\n",
    "        \n",
    "        # Logging the merged data and engineered features\n",
    "        logging.info(f\"Merged Data:\\n{merged_df.head()}\")\n",
    "        logging.info(f\"User Post Counts:\\n{user_post_counts}\")\n",
    "        \n",
    "        # Creating advanced visualizations\n",
    "        # Scatter plot of user post counts\n",
    "        plt.figure()\n",
    "        sns.scatterplot(x='userId', y='post_count', data=user_post_counts)\n",
    "        plt.title('User Post Counts')\n",
    "        plt.xlabel('User ID')\n",
    "        plt.ylabel('Number of Posts')\n",
    "        plt.grid(axis='y')\n",
    "        plt.show()\n",
    "        \n",
    "        # Heatmap of correlation between numerical features\n",
    "        plt.figure()\n",
    "        correlation_matrix = merged_df.corr()\n",
    "        sns.heatmap(correlation_matrix, annot=True, cmap='coolwarm')\n",
    "        plt.title('Correlation Matrix Heatmap')\n",
    "        plt.show()\n",
    "        \n",
    "        return merged_df\n",
    "\n",
    "# Example usage:\n",
    "client = AdvancedDataClient()\n",
    "df = client.fetch_and_analyze_data()"
   ]
  },
  {
   "cell_type": "markdown",
   "id": "44377510",
   "metadata": {},
   "source": [
    "<br><br>\n",
    "# 5. Creating Advanced Examples with Different HTTP Methods\n",
    "\n",
    "<font size=\"4\">In this section, we will create Python scripts that utilize various HTTP methods to interact with the REST API. We will illustrate more complex scenarios involving POST, PUT, and DELETE methods, demonstrating the creation, updating, and deletion of resources in the API.</font>\n",
    "<br><br>\n",
    "\n",
    "<font size=\"4\">We will create a script that performs a POST request to create a new resource and then performs data analytics on the response, including data validation and extraction of specific information.</font>"
   ]
  },
  {
   "cell_type": "code",
   "execution_count": 5,
   "id": "56985462",
   "metadata": {},
   "outputs": [
    {
     "name": "stdout",
     "output_type": "stream",
     "text": [
      "Resource Created Successfully with ID: 101\n",
      "Title of the Created Resource: New Post\n"
     ]
    }
   ],
   "source": [
    "import requests\n",
    "import json\n",
    "\n",
    "def post_example():\n",
    "    \"\"\"\n",
    "    This function demonstrates a complex POST example where a new resource \n",
    "    is created, and data analytics is performed on the JSON response.\n",
    "    \"\"\"\n",
    "    BASE_URL = \"https://jsonplaceholder.typicode.com\"\n",
    "    POST_ENDPOINT = f\"{BASE_URL}/posts\"\n",
    "    \n",
    "    # Data to be sent in the POST request\n",
    "    payload = {\n",
    "        \"title\": \"New Post\",\n",
    "        \"body\": \"Content of the new post\",\n",
    "        \"userId\": 1\n",
    "    }\n",
    "    \n",
    "    # Performing a POST request to create a new resource\n",
    "    response = requests.post(POST_ENDPOINT, json=payload)\n",
    "    \n",
    "    # Validating the response and extracting information\n",
    "    if response.status_code == 201:\n",
    "        data = response.json()\n",
    "        print(f\"Resource Created Successfully with ID: {data['id']}\")\n",
    "        print(f\"Title of the Created Resource: {data['title']}\")\n",
    "    else:\n",
    "        print(f\"Failed to Create Resource. HTTP Status Code: {response.status_code}\")\n",
    "\n",
    "# Example usage:\n",
    "post_example()"
   ]
  },
  {
   "cell_type": "markdown",
   "id": "d906967d",
   "metadata": {},
   "source": [
    "<font size=\"3\"><b>Note: </b>In this script, we perform a POST request to create a new resource in the API. We then validate the response to ensure the resource was created successfully and extract specific information from the JSON response to display.</font>"
   ]
  },
  {
   "cell_type": "markdown",
   "id": "f80c3478",
   "metadata": {},
   "source": [
    "<font size=\"4\"><b> 5.1 Error Hanlding</b></font>\n",
    "\n",
    "<font size=\"4\">In real-world scenarios, various errors can occur during API interactions. It's crucial to handle these errors gracefully to maintain the robustness of your application. We will illustrate how to handle common errors such as network issues, API rate limits, and unexpected response formats in Python scripts.</font>"
   ]
  },
  {
   "cell_type": "code",
   "execution_count": 6,
   "id": "8ed5708f",
   "metadata": {},
   "outputs": [
    {
     "name": "stdout",
     "output_type": "stream",
     "text": [
      "Successfully retrieved data: {'userId': 1, 'id': 1, 'title': 'sunt aut facere repellat provident occaecati excepturi optio reprehenderit', 'body': 'quia et suscipit\\nsuscipit recusandae consequuntur expedita et cum\\nreprehenderit molestiae ut ut quas totam\\nnostrum rerum est autem sunt rem eveniet architecto'}\n"
     ]
    }
   ],
   "source": [
    "import requests\n",
    "from requests.exceptions import ConnectionError, Timeout\n",
    "\n",
    "def handle_network_issues():\n",
    "    \"\"\"\n",
    "    This function demonstrates how to handle network issues that can occur \n",
    "    during API requests, including connection errors and timeouts.\n",
    "    \"\"\"\n",
    "    BASE_URL = \"https://jsonplaceholder.typicode.com\"\n",
    "    ENDPOINT = f\"{BASE_URL}/posts/1\"\n",
    "\n",
    "    try:\n",
    "        # Attempting to send a GET request to the API\n",
    "        response = requests.get(ENDPOINT, timeout=5)\n",
    "        response.raise_for_status()  # Check for HTTP errors (4xx and 5xx)\n",
    "        data = response.json()\n",
    "        print(f\"Successfully retrieved data: {data}\")\n",
    "\n",
    "    except ConnectionError:\n",
    "        print(\"Network Error: Unable to connect to the API.\")\n",
    "    except Timeout:\n",
    "        print(\"Network Error: The request timed out.\")\n",
    "    except Exception as e:\n",
    "        print(f\"An error occurred: {e}\")\n",
    "\n",
    "# Example usage:\n",
    "handle_network_issues()"
   ]
  },
  {
   "cell_type": "markdown",
   "id": "097a8b97",
   "metadata": {},
   "source": [
    "<font size=\"3\"><b>Note: </b>In this script, we use a try-except block to catch ConnectionError and Timeout exceptions, which represent network issues and request timeouts, respectively. We also catch other unspecified errors to ensure robust error handling.</font>"
   ]
  },
  {
   "cell_type": "markdown",
   "id": "ae1d8443",
   "metadata": {},
   "source": [
    "<br><br>\n",
    "<font size=\"4\"><b> 5.2 Batch Processing</b></font>\n",
    "\n",
    "<font size=\"4\">Batch processing in the context of REST APIs involves performing operations on multiple resources in a single request or executing multiple requests in parallel, which can significantly enhance the performance and efficiency of the API interactions.</font>\n"
   ]
  },
  {
   "cell_type": "code",
   "execution_count": 7,
   "id": "9808e6aa",
   "metadata": {},
   "outputs": [
    {
     "name": "stdout",
     "output_type": "stream",
     "text": [
      "Resource created with ID: 101\n",
      "Resource created with ID: 101\n",
      "Resource created with ID: 101\n"
     ]
    }
   ],
   "source": [
    "from concurrent.futures import ThreadPoolExecutor\n",
    "import requests\n",
    "\n",
    "def create_resource(payload):\n",
    "    \"\"\"\n",
    "    This function sends a POST request to create a new resource with the given payload.\n",
    "    \"\"\"\n",
    "    BASE_URL = \"https://jsonplaceholder.typicode.com\"\n",
    "    ENDPOINT = f\"{BASE_URL}/posts\"\n",
    "    response = requests.post(ENDPOINT, json=payload)\n",
    "    return response.json()\n",
    "\n",
    "def batch_processing_example():\n",
    "    \"\"\"\n",
    "    This function demonstrates batch processing by creating multiple resources in parallel.\n",
    "    \"\"\"\n",
    "    # List of payloads to create multiple resources\n",
    "    payloads = [\n",
    "        {\"title\": \"Batch Post 1\", \"body\": \"Content of batch post 1\", \"userId\": 1},\n",
    "        {\"title\": \"Batch Post 2\", \"body\": \"Content of batch post 2\", \"userId\": 2},\n",
    "        {\"title\": \"Batch Post 3\", \"body\": \"Content of batch post 3\", \"userId\": 3},\n",
    "    ]\n",
    "\n",
    "    # Creating a thread pool and making POST requests in parallel\n",
    "    with ThreadPoolExecutor() as executor:\n",
    "        results = executor.map(create_resource, payloads)\n",
    "        \n",
    "        for result in results:\n",
    "            print(f\"Resource created with ID: {result['id']}\")\n",
    "\n",
    "# Example usage:\n",
    "batch_processing_example()"
   ]
  },
  {
   "cell_type": "markdown",
   "id": "4e1f5a0a",
   "metadata": {},
   "source": [
    "<font size=\"3\"><b>Note: </b>In this script, we define a create_resource function that sends a POST request to create a new resource with a given payload. We then define a batch_processing_example function that utilizes ThreadPoolExecutor to create multiple resources in parallel, enhancing the efficiency of batch operations.</font>"
   ]
  },
  {
   "cell_type": "markdown",
   "id": "f6567d0c",
   "metadata": {},
   "source": [
    "<br><br>\n",
    "<font size=\"4\">Below is another example for a simple stock trend analysis using twelve data API</font>"
   ]
  },
  {
   "cell_type": "code",
   "execution_count": 9,
   "id": "4845d499",
   "metadata": {},
   "outputs": [
    {
     "data": {
      "image/png": "[encoded data removed]",
      "text/plain": [
       "<Figure size 432x288 with 1 Axes>"
      ]
     },
     "metadata": {
      "needs_background": "light"
     },
     "output_type": "display_data"
    }
   ],
   "source": [
    "import requests\n",
    "import pandas as pd\n",
    "from datetime import datetime\n",
    "import matplotlib.pyplot as plt\n",
    "\n",
    "def stock_price_trend_analysis():\n",
    "    \"\"\"\n",
    "    This function retrieves historical stock prices from a financial data API \n",
    "    and performs data analysis to identify and visualize stock price trends.\n",
    "    \"\"\"\n",
    "    API_URL = \"https://api.twelvedata.com/time_series\"\n",
    "    params = {\n",
    "        \"symbol\": \"AAPL\",\n",
    "        \"interval\": \"1day\",\n",
    "        \"outputsize\": 30,\n",
    "        \"apikey\": \"your_api_key_here\"  # Please replace with your actual API key\n",
    "    }\n",
    "    \n",
    "    response = requests.get(API_URL, params=params)\n",
    "    data = response.json()\n",
    "    \n",
    "    # Transforming the JSON response to a pandas DataFrame\n",
    "    df = pd.DataFrame(data['values'])\n",
    "    df['datetime'] = pd.to_datetime(df['datetime'])\n",
    "    df['close'] = pd.to_numeric(df['close'])\n",
    "    \n",
    "    # Plotting the stock price trends over time\n",
    "    plt.figure()\n",
    "    plt.plot(df['datetime'], df['close'], marker='o')\n",
    "    plt.title('Stock Price Trends over Time (AAPL)')\n",
    "    plt.xlabel('Date')\n",
    "    plt.ylabel('Closing Price (USD)')\n",
    "    plt.grid(True)\n",
    "    plt.xticks(rotation=45)\n",
    "    plt.tight_layout()\n",
    "    plt.show()\n",
    "\n",
    "# Example usage:\n",
    "stock_price_trend_analysis()"
   ]
  },
  {
   "cell_type": "code",
   "execution_count": null,
   "id": "461ca622",
   "metadata": {},
   "outputs": [],
   "source": []
  }
 ],
 "metadata": {
  "kernelspec": {
   "display_name": "Python 3 (ipykernel)",
   "language": "python",
   "name": "python3"
  },
  "language_info": {
   "codemirror_mode": {
    "name": "ipython",
    "version": 3
   },
   "file_extension": ".py",
   "mimetype": "text/x-python",
   "name": "python",
   "nbconvert_exporter": "python",
   "pygments_lexer": "ipython3",
   "version": "3.9.18"
  }
 },
 "nbformat": 4,
 "nbformat_minor": 5
}
