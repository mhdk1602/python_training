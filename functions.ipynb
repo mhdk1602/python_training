{
 "cells": [
  {
   "cell_type": "markdown",
   "id": "9e1718ae",
   "metadata": {},
   "source": [
    "## Functions"
   ]
  },
  {
   "cell_type": "markdown",
   "id": "f1411bea",
   "metadata": {},
   "source": [
    "<font color = 'blue'><font size = 4><tt><b>Functions</b></tt></font></font> are a way to group a set of statements and reuse them. They are defined using the def keyword followed by the function name and any arguments the function takes in parentheses.\n",
    "\n",
    "The syntax is as follows <br><br>\n",
    "\n",
    "<div><code><font color = 'indigo'>def function_name(argument1, argument2, ...):\n",
    "    # function body\n",
    "    statement1\n",
    "    statement2\n",
    "    ...\n",
    "    return result</font></code></div><br>\n",
    "    \n",
    "For example let's assume there is a requirement to get a name as user input and print the length of their name.    \n",
    "\n",
    "Without a function you'd have to repeat the below as many times as the user wants\n",
    "    \n",
    "<div><code><font color = 'indigo'>name = input(\"Enter name: \")\n",
    "print(len(name))</font></code></div><br>   \n",
    "\n",
    "You can write a function to continue till the user enters <code>\"break\"</code>\n",
    "<br><br>\n",
    "\n",
    "<div><code><font color = 'indigo'>def name_length():\n",
    "    name = input(\"Enter name: \")\n",
    "    while name!= 'break':\n",
    "        print(len(name))\n",
    "name_length()</font></code></div><br>\n",
    "\n",
    "<div><font color = 'indigo'><b>Output</b><br>\n",
    "\n",
    "Enter name: alpha<br>\n",
    "5<br>\n",
    "Enter name: bravo<br>\n",
    "5<br>\n",
    "Enter name: delta<br>\n",
    "5<br>\n",
    "Enter name: break<br>\n",
    "5<br>"
   ]
  },
  {
   "cell_type": "code",
   "execution_count": null,
   "id": "7d378e06",
   "metadata": {},
   "outputs": [],
   "source": []
  }
 ],
 "metadata": {
  "kernelspec": {
   "display_name": "Python 3 (ipykernel)",
   "language": "python",
   "name": "python3"
  },
  "language_info": {
   "codemirror_mode": {
    "name": "ipython",
    "version": 3
   },
   "file_extension": ".py",
   "mimetype": "text/x-python",
   "name": "python",
   "nbconvert_exporter": "python",
   "pygments_lexer": "ipython3",
   "version": "3.9.16"
  }
 },
 "nbformat": 4,
 "nbformat_minor": 5
}
