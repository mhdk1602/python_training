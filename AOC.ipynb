{
 "cells": [
  {
   "cell_type": "code",
   "execution_count": 2,
   "metadata": {},
   "outputs": [
    {
     "name": "stdout",
     "output_type": "stream",
     "text": [
      "The sum of all calibration values is: 53651\n"
     ]
    }
   ],
   "source": [
    "def get_calibration_values(lines):\n",
    "    total_sum = 0\n",
    "    for line in lines:\n",
    "        first_digit = next((char for char in line if char.isdigit()), None)\n",
    "        last_digit = next((char for char in reversed(line) if char.isdigit()), None)\n",
    "        \n",
    "        if first_digit is not None and last_digit is not None:\n",
    "            total_sum += int(first_digit + last_digit)\n",
    "    \n",
    "    return total_sum\n",
    "\n",
    "# Replace with your input\n",
    "with open('/Users/malempatiharidines/Downloads/puzzle_input.txt') as f:\n",
    "    lines = f.readlines()\n",
    "\n",
    "result = get_calibration_values(lines)\n",
    "print(\"The sum of all calibration values is:\", result)"
   ]
  },
  {
   "cell_type": "code",
   "execution_count": 6,
   "metadata": {},
   "outputs": [
    {
     "name": "stdout",
     "output_type": "stream",
     "text": [
      "The sum of all calibration values is: 53894\n"
     ]
    }
   ],
   "source": [
    "def get_calibration_values(lines):\n",
    "    total_sum = 0\n",
    "    number_dict = {\n",
    "        'one': '1', 'two': '2', 'three': '3', 'four': '4',\n",
    "        'five': '5', 'six': '6', 'seven': '7', 'eight': '8', 'nine': '9'\n",
    "    }\n",
    "\n",
    "    for line in lines:\n",
    "        first_digit = None\n",
    "        last_digit = None\n",
    "\n",
    "        # Finding the first digit or spelled-out number\n",
    "        for i, char in enumerate(line):\n",
    "            if char.isdigit():\n",
    "                first_digit = char\n",
    "                break\n",
    "            else:\n",
    "                for word, digit in number_dict.items():\n",
    "                    if line[i:i+len(word)] == word:\n",
    "                        first_digit = digit\n",
    "                        break\n",
    "                if first_digit:\n",
    "                    break\n",
    "\n",
    "        # Finding the last digit or spelled-out number\n",
    "        for i, char in enumerate(reversed(line)):\n",
    "            if char.isdigit():\n",
    "                last_digit = char\n",
    "                break\n",
    "            else:\n",
    "                for word, digit in number_dict.items():\n",
    "                    if line[len(line)-i-len(word):len(line)-i] == word:\n",
    "                        last_digit = digit\n",
    "                        break\n",
    "                if last_digit:\n",
    "                    break\n",
    "\n",
    "        if first_digit is not None and last_digit is not None:\n",
    "            total_sum += int(first_digit + last_digit)\n",
    "    \n",
    "    return total_sum\n",
    "\n",
    "# lines = [\n",
    "#     \"two1nine\",\n",
    "#     \"eightwothree\",\n",
    "#     \"abcone2threexyz\",\n",
    "#     \"xtwone3four\",\n",
    "#     \"4nineeightseven2\",\n",
    "#     \"zoneight234\",\n",
    "#     \"7pqrstsixteen\"\n",
    "# ]\n",
    "\n",
    "with open('/Users/malempatiharidines/Downloads/puzzle_input.txt') as f:\n",
    "    lines = f.readlines()\n",
    "\n",
    "result = get_calibration_values(lines)\n",
    "print(\"The sum of all calibration values is:\", result)"
   ]
  },
  {
   "cell_type": "code",
   "execution_count": null,
   "metadata": {},
   "outputs": [],
   "source": []
  }
 ],
 "metadata": {
  "kernelspec": {
   "display_name": "Python 3",
   "language": "python",
   "name": "python3"
  },
  "language_info": {
   "codemirror_mode": {
    "name": "ipython",
    "version": 3
   },
   "file_extension": ".py",
   "mimetype": "text/x-python",
   "name": "python",
   "nbconvert_exporter": "python",
   "pygments_lexer": "ipython3",
   "version": "3.11.5"
  }
 },
 "nbformat": 4,
 "nbformat_minor": 2
}
