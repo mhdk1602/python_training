{
 "cells": [
  {
   "cell_type": "code",
   "execution_count": 8,
   "id": "db4ab6d2",
   "metadata": {},
   "outputs": [
    {
     "name": "stdout",
     "output_type": "stream",
     "text": [
      "\u001b[33mDEPRECATION: Configuring installation scheme with distutils config files is deprecated and will no longer work in the near future. If you are using a Homebrew or Linuxbrew Python, please see discussion at https://github.com/Homebrew/homebrew-core/issues/76621\u001b[0m\u001b[33m\n",
      "\u001b[0m\u001b[33m  DEPRECATION: Configuring installation scheme with distutils config files is deprecated and will no longer work in the near future. If you are using a Homebrew or Linuxbrew Python, please see discussion at https://github.com/Homebrew/homebrew-core/issues/76621\u001b[0m\u001b[33m\n",
      "\u001b[0m\u001b[33mDEPRECATION: Configuring installation scheme with distutils config files is deprecated and will no longer work in the near future. If you are using a Homebrew or Linuxbrew Python, please see discussion at https://github.com/Homebrew/homebrew-core/issues/76621\u001b[0m\u001b[33m\n",
      "\u001b[0m\n",
      "\u001b[1m[\u001b[0m\u001b[34;49mnotice\u001b[0m\u001b[1;39;49m]\u001b[0m\u001b[39;49m A new release of pip is available: \u001b[0m\u001b[31;49m23.3.1\u001b[0m\u001b[39;49m -> \u001b[0m\u001b[32;49m24.0\u001b[0m\n",
      "\u001b[1m[\u001b[0m\u001b[34;49mnotice\u001b[0m\u001b[1;39;49m]\u001b[0m\u001b[39;49m To update, run: \u001b[0m\u001b[32;49mpython3.9 -m pip install --upgrade pip\u001b[0m\n"
     ]
    }
   ],
   "source": [
    "!pip install cerberus > /dev/null"
   ]
  },
  {
   "cell_type": "markdown",
   "id": "dfc90710",
   "metadata": {},
   "source": [
    "# Data Quality and Validation\n",
    "\n",
    "Data quality and validation are critical components in the data engineering process. It ensures that the data utilized in analytics and decision-making is accurate, reliable, and consistent. Here, we will delve into the significance of data quality and validation in data engineering, explore various techniques available in Python for data validation, and examine the best practices to incorporate data quality checks in data pipelines.\n",
    "\n",
    "## Importance of Data Quality and Validation in Data Engineering\n",
    "\n",
    "1. **Reliability**: Ensuring data quality helps in maintaining the reliability of the data, which in turn aids in building trust with the stakeholders.\n",
    "   \n",
    "2. **Decision Making**: High-quality data is pivotal in making informed decisions. It helps in deriving meaningful insights from the data.\n",
    "\n",
    "3. **Compliance**: Maintaining data quality is often a regulatory requirement in many industries, ensuring that the data adheres to the necessary standards and compliances.\n",
    "\n",
    "4. **Efficiency**: Data validation helps in eliminating errors and inconsistencies, which can lead to more efficient data processing and analysis.\n",
    "\n",
    "## Techniques for Validating and Ensuring Data Quality in Python\n",
    "\n",
    "### Data Profiling\n",
    "Data profiling is the process of examining, analyzing, and reviewing data to collect statistics and information about data. Python offers various libraries such as `pandas-profiling` that can be used for data profiling.\n",
    "\n",
    "### Data Validation Frameworks\n",
    "There are several frameworks available in Python for data validation, such as `Pydantic` and `Cerberus`, which help in validating the data against predefined schemas and rules.\n",
    "\n",
    "## Best Practices for Incorporating Data Quality Checks in Data Pipelines\n",
    "\n",
    "1. **Automated Testing**: Incorporate automated testing in the data pipelines to continuously monitor the quality of the data.\n",
    "   \n",
    "2. **Anomaly Detection**: Implement anomaly detection to identify any unusual patterns or outliers in the data.\n",
    "\n",
    "3. **Version Control**: Utilize version control systems to track changes in the data and maintain a history of data transformations.\n",
    "\n",
    "4. **Documentation**: Maintain comprehensive documentation of the data pipelines, including the data sources, transformations, and data quality checks implemented.\n",
    "\n",
    "In the following sections, we will explore each of these subtopics in detail, with Python code examples and practical applications."
   ]
  },
  {
   "cell_type": "markdown",
   "id": "cbad469b",
   "metadata": {},
   "source": [
    "---\n",
    "\n",
    "### 1. Reliability\n",
    "\n",
    "Ensuring data quality is essential in maintaining the reliability of data. Reliable data forms the backbone of robust analytical systems, fostering trust with stakeholders and facilitating accurate insights. It represents the real-world phenomena accurately and consistently over time. Below, we demonstrate a Python example of how maintaining data reliability is crucial in data engineering:\n",
    "\n",
    "#### Python Example: \n",
    "In this Python example, we illustrate how to identify and handle missing values in a dataset, a fundamental step in maintaining data reliability.\n"
   ]
  },
  {
   "cell_type": "code",
   "execution_count": 5,
   "id": "22c655d4",
   "metadata": {},
   "outputs": [
    {
     "name": "stdout",
     "output_type": "stream",
     "text": [
      "Missing values before cleaning:\n",
      "Plasma glucose concentration      5\n",
      "Diastolic blood pressure         35\n",
      "Triceps skinfold thickness      227\n",
      "2-Hour serum insulin            374\n",
      "Body mass index                  11\n",
      "dtype: int64\n",
      "\n",
      "\n",
      "Missing values after cleaning:\n",
      "Plasma glucose concentration    0\n",
      "Diastolic blood pressure        0\n",
      "Triceps skinfold thickness      0\n",
      "2-Hour serum insulin            0\n",
      "Body mass index                 0\n",
      "dtype: int64\n"
     ]
    }
   ],
   "source": [
    "import pandas as pd\n",
    "import numpy as np\n",
    "\n",
    "# Load the Pima Indians Diabetes dataset\n",
    "data_url = \"https://raw.githubusercontent.com/jbrownlee/Datasets/master/pima-indians-diabetes.data.csv\"\n",
    "data = pd.read_csv(data_url, header=None)\n",
    "\n",
    "# Adding column names for better understanding\n",
    "data.columns = [\"Number of times pregnant\", \"Plasma glucose concentration\", \"Diastolic blood pressure\", \"Triceps skinfold thickness\", \"2-Hour serum insulin\", \"Body mass index\", \"Diabetes pedigree function\", \"Age\", \"Class\"]\n",
    "\n",
    "# Identify missing values (in this dataset, a value of 0 in certain columns indicates a missing value)\n",
    "missing_values_before = (data[[\"Plasma glucose concentration\", \"Diastolic blood pressure\", \"Triceps skinfold thickness\", \"2-Hour serum insulin\", \"Body mass index\"]] == 0).sum()\n",
    "print(f\"Missing values before cleaning:\\n{missing_values_before}\")\n",
    "\n",
    "# Handle missing values by replacing zeros with NaN and then imputing the median value\n",
    "data.replace({col: 0 for col in [\"Plasma glucose concentration\", \"Diastolic blood pressure\", \"Triceps skinfold thickness\", \"2-Hour serum insulin\", \"Body mass index\"]}, np.nan, inplace=True)\n",
    "data.fillna(data.median(), inplace=True)\n",
    "\n",
    "# Verify that there are no missing values left (indicated by zeros)\n",
    "missing_values_after = (data[[\"Plasma glucose concentration\", \"Diastolic blood pressure\", \"Triceps skinfold thickness\", \"2-Hour serum insulin\", \"Body mass index\"]] == 0).sum()\n",
    "print(f\"\\n\\nMissing values after cleaning:\\n{missing_values_after}\")\n",
    "\n",
    "# Assert to verify no missing values\n",
    "assert missing_values_after.sum() == 0"
   ]
  },
  {
   "cell_type": "markdown",
   "id": "90f87151",
   "metadata": {},
   "source": [
    "<br>\n",
    "<div class=\"alert alert-info\" role=\"alert\">\n",
    "In this script, we used the pandas library to load the Pima Indians Diabetes dataset, identified missing values (indicated by zeros in certain columns), and handled them by replacing with NaN and then imputing the median value, thereby ensuring the reliability of the dataset.\n",
    "\n",
    "In the upcoming section, we will explore how data quality and validation contribute to informed decision-making.\n",
    "</div>"
   ]
  },
  {
   "cell_type": "markdown",
   "id": "7be73e2b",
   "metadata": {},
   "source": [
    "### 2. Decision Making\n",
    "\n",
    "High-quality data is pivotal in making informed decisions. It assists in deriving meaningful insights from the data, which leads to accurate and data-driven decision-making. A well-structured data analysis process can help identify trends, patterns, and correlations that are not immediately apparent. Let's explore a Python example where we use data visualization to aid in decision-making:\n",
    "\n",
    "#### Python Example:\n",
    "In this Python script, we demonstrate how to perform data aggregation and visualization to assist in decision-making. We will continue using the \"Pima Indians Diabetes\" dataset."
   ]
  },
  {
   "cell_type": "code",
   "execution_count": 6,
   "id": "f9099041",
   "metadata": {},
   "outputs": [
    {
     "data": {
      "image/png": "[encoded data removed]",
      "text/plain": [
       "<Figure size 432x288 with 1 Axes>"
      ]
     },
     "metadata": {
      "needs_background": "light"
     },
     "output_type": "display_data"
    }
   ],
   "source": [
    "import matplotlib.pyplot as plt\n",
    "\n",
    "# Group data by the outcome (Class) and calculate the mean value for each group\n",
    "grouped_data = data.groupby('Class').mean()\n",
    "\n",
    "# Visualize the aggregated data using a bar plot\n",
    "grouped_data.plot(kind='bar')\n",
    "plt.title('Data Aggregation for Decision Making')\n",
    "plt.xlabel('Class')\n",
    "plt.ylabel('Mean Value')\n",
    "plt.show()"
   ]
  },
  {
   "cell_type": "markdown",
   "id": "d7662464",
   "metadata": {},
   "source": [
    "<br>\n",
    "<div class=\"alert alert-info\" role=\"alert\">\n",
    "This script groups the data by the 'Class' column (which indicates whether or not a person has diabetes) and calculates the mean value for each group. The resulting bar plot visualizes the average values of different attributes for each class, aiding in the analysis and decision-making process regarding diabetes prediction.\n",
    "</div>"
   ]
  },
  {
   "cell_type": "markdown",
   "id": "a34679bb",
   "metadata": {},
   "source": [
    "### 3. Compliance\n",
    "\n",
    "Compliance refers to the adherence to standards, regulations, and laws that govern the collection and usage of data. Ensuring data quality is often a regulatory requirement in many industries, helping to maintain the necessary standards and compliance. It safeguards the organization from legal ramifications and maintains the trust of stakeholders. Let's delve into a Python example that illustrates how to validate data against a predefined schema to ensure compliance with data standards:\n",
    "\n",
    "#### Python Example:\n",
    "In this Python script, we illustrate how to validate data records against a predefined schema using the `Cerberus` library, thereby ensuring that the data meets the necessary standards and compliances.\n"
   ]
  },
  {
   "cell_type": "code",
   "execution_count": 9,
   "id": "6d766a34",
   "metadata": {},
   "outputs": [
    {
     "name": "stdout",
     "output_type": "stream",
     "text": [
      "Record validation result: False\n",
      "{'2-Hour serum insulin': ['must be of integer type'], 'Age': ['must be of integer type'], 'Class': ['must be of integer type'], 'Diastolic blood pressure': ['must be of integer type'], 'Number of times pregnant': ['must be of integer type'], 'Plasma glucose concentration': ['must be of integer type'], 'Triceps skinfold thickness': ['must be of integer type']}\n"
     ]
    }
   ],
   "source": [
    "from cerberus import Validator\n",
    "\n",
    "# Define a schema to validate data against\n",
    "schema = {\n",
    "    'Number of times pregnant': {'type': 'integer', 'min': 0},\n",
    "    'Plasma glucose concentration': {'type': 'integer', 'min': 0},\n",
    "    'Diastolic blood pressure': {'type': 'integer', 'min': 0},\n",
    "    'Triceps skinfold thickness': {'type': 'integer', 'min': 0},\n",
    "    '2-Hour serum insulin': {'type': 'integer', 'min': 0},\n",
    "    'Body mass index': {'type': 'float', 'min': 0.0},\n",
    "    'Diabetes pedigree function': {'type': 'float', 'min': 0.0},\n",
    "    'Age': {'type': 'integer', 'min': 0},\n",
    "    'Class': {'type': 'integer', 'min': 0, 'max': 1}\n",
    "}\n",
    "\n",
    "# Create a validator instance\n",
    "v = Validator(schema)\n",
    "\n",
    "# Validate a data record against the schema\n",
    "record = data.iloc[0].to_dict()\n",
    "is_valid = v.validate(record)\n",
    "print(f\"Record validation result: {is_valid}\")\n",
    "\n",
    "# If there are any errors, print them\n",
    "if not is_valid:\n",
    "    print(v.errors)"
   ]
  },
  {
   "cell_type": "markdown",
   "id": "0892399a",
   "metadata": {},
   "source": [
    "<br>\n",
    "<div class=\"alert alert-success\" role=\"alert\">\n",
    "    \n",
    "**Note on Cerberus Library:**\n",
    "\n",
    "Cerberus is an open-source data validation library used extensively in Python for validating data schemas. It allows developers to validate data records against predefined schemas with various validation rules, helping to ensure that the data meets the necessary standards and compliances. Using Cerberus can significantly streamline the process of data validation, making it an essential tool in data engineering pipelines where compliance with data standards is a critical requirement.\n",
    "\n",
    "</div>\n",
    "\n",
    "<br>\n",
    "<div class=\"alert alert-info\" role=\"alert\">This script uses the Cerberus library to define a validation schema based on the attributes present in the Pima Indians Diabetes dataset. It then validates a data record against this schema, printing the validation result and any errors if present. This process ensures that the data adheres to the defined standards, showcasing the importance of compliance in data quality and validation.</div>"
   ]
  },
  {
   "cell_type": "markdown",
   "id": "9bcd01d2",
   "metadata": {},
   "source": [
    "### 4. Efficiency\n",
    "\n",
    "Efficiency in data processing and analysis is crucial in data engineering. Data validation aids in enhancing efficiency by eliminating errors and inconsistencies, which, in turn, leads to smoother data processing and analysis. It helps in saving resources and time, allowing for quicker insights and decision-making. Let's explore a Python example that illustrates how to enhance data efficiency through data cleaning operations:\n",
    "\n",
    "#### Python Example:\n",
    "In this Python script, we demonstrate how to perform data cleaning operations such as removing duplicates and irrelevant columns to enhance data efficiency, using the Pima Indians Diabetes dataset.\n"
   ]
  },
  {
   "cell_type": "code",
   "execution_count": 10,
   "id": "bc3fb11a",
   "metadata": {},
   "outputs": [
    {
     "name": "stdout",
     "output_type": "stream",
     "text": [
      "Number of duplicate records: 0\n",
      "Number of records after removing duplicates: 768\n",
      "Columns after removing irrelevant columns: ['Number of times pregnant', 'Plasma glucose concentration', 'Diastolic blood pressure', 'Triceps skinfold thickness', '2-Hour serum insulin', 'Body mass index', 'Age', 'Class']\n"
     ]
    }
   ],
   "source": [
    "# Identify and remove duplicate records\n",
    "duplicate_records = data.duplicated().sum()\n",
    "print(f\"Number of duplicate records: {duplicate_records}\")\n",
    "data.drop_duplicates(inplace=True)\n",
    "\n",
    "# Remove irrelevant columns (for this example, we consider 'Diabetes pedigree function' as an irrelevant column)\n",
    "data.drop(columns=['Diabetes pedigree function'], inplace=True)\n",
    "\n",
    "# Verify the changes\n",
    "print(f\"Number of records after removing duplicates: {data.shape[0]}\")\n",
    "print(f\"Columns after removing irrelevant columns: {data.columns.tolist()}\")"
   ]
  },
  {
   "cell_type": "markdown",
   "id": "65c0c8b0",
   "metadata": {},
   "source": [
    "<div class=\"alert alert-success\" role=\"alert\">\n",
    "\n",
    "**Efficiency Tip:**\n",
    "\n",
    "Regular data cleaning and validation checks can significantly enhance the efficiency of data pipelines, ensuring that the data is always ready for analysis and modeling without requiring extensive preprocessing steps each time.\n",
    "\n",
    "</div>\n",
    "<br>\n",
    "\n",
    "<div class=\"alert alert-info\" role=\"alert\">This script identifies and removes duplicate records and irrelevant columns from the dataset, thereby enhancing the efficiency of data processing. It helps in maintaining a clean and streamlined dataset, which is fundamental for efficient data analysis and modeling.\n",
    "\n",
    "In the next sections, we will delve deeper into various techniques for validating and ensuring data quality in Python, complemented with Python code examples and practical applications.</div>"
   ]
  },
  {
   "cell_type": "markdown",
   "id": "a9557976",
   "metadata": {},
   "source": [
    "## Techniques for Validating and Ensuring Data Quality in Python\n",
    "\n",
    "Data quality is a comprehensive process that involves various techniques to ensure the reliability, accuracy, and completeness of data. In this section, we will explore different techniques and Python tools that can be used to validate and ensure data quality.\n",
    "\n",
    "### Data Profiling\n",
    "\n",
    "Data profiling is the process of examining and analyzing data to gather statistics and information about it. It helps in understanding the data better, identifying any patterns, anomalies, or inconsistencies present in the data. Data profiling is a critical step in data preparation, offering insights into the data's quality and characteristics. Let's delve into a Python example where we demonstrate data profiling using the `pandas_profiling` library on the Pima Indians Diabetes dataset:\n",
    "\n",
    "#### Python Example:\n",
    "\n",
    "Before we begin, ensure to install the required library by using the following command:\n"
   ]
  },
  {
   "cell_type": "code",
   "execution_count": 18,
   "id": "c95f1eec",
   "metadata": {
    "scrolled": true
   },
   "outputs": [
    {
     "name": "stdout",
     "output_type": "stream",
     "text": [
      "\u001b[33mDEPRECATION: Configuring installation scheme with distutils config files is deprecated and will no longer work in the near future. If you are using a Homebrew or Linuxbrew Python, please see discussion at https://github.com/Homebrew/homebrew-core/issues/76621\u001b[0m\u001b[33m\n",
      "\u001b[0m\u001b[33m  DEPRECATION: Configuring installation scheme with distutils config files is deprecated and will no longer work in the near future. If you are using a Homebrew or Linuxbrew Python, please see discussion at https://github.com/Homebrew/homebrew-core/issues/76621\u001b[0m\u001b[33m\n",
      "\u001b[0m\u001b[33mDEPRECATION: Configuring installation scheme with distutils config files is deprecated and will no longer work in the near future. If you are using a Homebrew or Linuxbrew Python, please see discussion at https://github.com/Homebrew/homebrew-core/issues/76621\u001b[0m\u001b[33m\n",
      "\u001b[0m\n",
      "\u001b[1m[\u001b[0m\u001b[34;49mnotice\u001b[0m\u001b[1;39;49m]\u001b[0m\u001b[39;49m A new release of pip is available: \u001b[0m\u001b[31;49m23.3.1\u001b[0m\u001b[39;49m -> \u001b[0m\u001b[32;49m24.0\u001b[0m\n",
      "\u001b[1m[\u001b[0m\u001b[34;49mnotice\u001b[0m\u001b[1;39;49m]\u001b[0m\u001b[39;49m To update, run: \u001b[0m\u001b[32;49mpython3.9 -m pip install --upgrade pip\u001b[0m\n"
     ]
    }
   ],
   "source": [
    "!pip install sweetviz > /dev/null"
   ]
  },
  {
   "cell_type": "code",
   "execution_count": 19,
   "id": "1fa63158",
   "metadata": {},
   "outputs": [
    {
     "data": {
      "application/vnd.jupyter.widget-view+json": {
       "model_id": "608462b850ce4ccdacc1720f7c61095e",
       "version_major": 2,
       "version_minor": 0
      },
      "text/plain": [
       "                                             |                                                                …"
      ]
     },
     "metadata": {},
     "output_type": "display_data"
    },
    {
     "name": "stdout",
     "output_type": "stream",
     "text": [
      "Report report.html was generated! NOTEBOOK/COLAB USERS: the web browser MAY not pop up, regardless, the report IS saved in your notebook/colab files.\n"
     ]
    }
   ],
   "source": [
    "import pandas as pd\n",
    "import sweetviz as sv\n",
    "\n",
    "# Load the Pima Indians Diabetes dataset\n",
    "data_url = \"https://raw.githubusercontent.com/jbrownlee/Datasets/master/pima-indians-diabetes.data.csv\"\n",
    "data = pd.read_csv(data_url, header=None)\n",
    "data.columns = [\"Number of times pregnant\", \"Plasma glucose concentration\", \"Diastolic blood pressure\", \"Triceps skinfold thickness\", \"2-Hour serum insulin\", \"Body mass index\", \"Diabetes pedigree function\", \"Age\", \"Class\"]\n",
    "\n",
    "# Data Transformation: Creating a new feature 'Age Group'\n",
    "data['Age Group'] = pd.cut(data['Age'], bins=[20, 30, 40, 50, 60, 70, 80], labels=['20-30', '30-40', '40-50', '50-60', '60-70', '70-80'])\n",
    "\n",
    "# Data Profiling: Creating a data profiling report\n",
    "report = sv.analyze(data)\n",
    "\n",
    "# Display the data profiling report\n",
    "report.show_html('report.html')"
   ]
  },
  {
   "cell_type": "markdown",
   "id": "4ea7d734",
   "metadata": {},
   "source": [
    "<br>\n",
    "\n",
    "<div class=\"alert alert-info\" role=\"alert\">The data profiling report generated by sweetviz will offer a comprehensive overview of the data, including insights into data distributions, correlations, and other statistical measures. It serves as a powerful tool in the early stages of data analysis, helping in identifying areas where further data engineering steps might be necessary.</div>"
   ]
  },
  {
   "cell_type": "markdown",
   "id": "84231015",
   "metadata": {},
   "source": [
    "### Data Validation Frameworks\n",
    "\n",
    "Data validation frameworks play a vital role in ensuring the accuracy and reliability of the data in data engineering pipelines. These frameworks allow for the validation of data against predefined schemas or rules, ensuring that the data meets the necessary standards and compliances. In Python, several frameworks facilitate data validation, including `Pydantic`, `Cerberus`, and `Pandas Schema`. In this section, we will explore how to use the `Pydantic` library for data validation, including creating data models and validating data records against these models. We will also introduce some additional data engineering steps such as data cleaning and transformation.\n",
    "\n",
    "#### Python Example:\n",
    "\n",
    "First, install the `pydantic` library using the following command:"
   ]
  },
  {
   "cell_type": "code",
   "execution_count": 20,
   "id": "1f4fb5da",
   "metadata": {},
   "outputs": [
    {
     "name": "stdout",
     "output_type": "stream",
     "text": [
      "\u001b[33mDEPRECATION: Configuring installation scheme with distutils config files is deprecated and will no longer work in the near future. If you are using a Homebrew or Linuxbrew Python, please see discussion at https://github.com/Homebrew/homebrew-core/issues/76621\u001b[0m\u001b[33m\n",
      "\u001b[0m\u001b[33mDEPRECATION: Configuring installation scheme with distutils config files is deprecated and will no longer work in the near future. If you are using a Homebrew or Linuxbrew Python, please see discussion at https://github.com/Homebrew/homebrew-core/issues/76621\u001b[0m\u001b[33m\n",
      "\u001b[0m\n",
      "\u001b[1m[\u001b[0m\u001b[34;49mnotice\u001b[0m\u001b[1;39;49m]\u001b[0m\u001b[39;49m A new release of pip is available: \u001b[0m\u001b[31;49m23.3.1\u001b[0m\u001b[39;49m -> \u001b[0m\u001b[32;49m24.0\u001b[0m\n",
      "\u001b[1m[\u001b[0m\u001b[34;49mnotice\u001b[0m\u001b[1;39;49m]\u001b[0m\u001b[39;49m To update, run: \u001b[0m\u001b[32;49mpython3.9 -m pip install --upgrade pip\u001b[0m\n"
     ]
    }
   ],
   "source": [
    "!pip install pydantic > /dev/null"
   ]
  },
  {
   "cell_type": "code",
   "execution_count": 27,
   "id": "d4b7c4aa",
   "metadata": {},
   "outputs": [
    {
     "name": "stdout",
     "output_type": "stream",
     "text": [
      "Record at index 0 is invalid: 1 validation error for DiabetesRecord\n",
      "glucose_concentration\n",
      "  Input should be greater than or equal to 0 [type=greater_than_equal, input_value=-1.0, input_type=float]\n",
      "    For further information visit https://errors.pydantic.dev/2.6/v/greater_than_equal\n",
      "Record at index 1 is invalid: 1 validation error for DiabetesRecord\n",
      "age\n",
      "  Input should be greater than or equal to 0 [type=greater_than_equal, input_value=-5.0, input_type=float]\n",
      "    For further information visit https://errors.pydantic.dev/2.6/v/greater_than_equal\n"
     ]
    }
   ],
   "source": [
    "from pydantic import BaseModel, ValidationError, conint, confloat\n",
    "import pandas as pd\n",
    "\n",
    "# Define a data model using Pydantic\n",
    "class DiabetesRecord(BaseModel):\n",
    "    times_pregnant: conint(ge=0)\n",
    "    glucose_concentration: confloat(ge=0.0)\n",
    "    blood_pressure: confloat(ge=0.0)\n",
    "    skinfold_thickness: confloat(ge=0.0)\n",
    "    serum_insulin: confloat(ge=0.0)\n",
    "    bmi: confloat(ge=0.0)\n",
    "    diabetes_pedigree: confloat(ge=0.0)\n",
    "    age: conint(ge=0)\n",
    "    classification: conint(ge=0)\n",
    "\n",
    "# Load the Pima Indians Diabetes dataset\n",
    "data_url = \"https://raw.githubusercontent.com/jbrownlee/Datasets/master/pima-indians-diabetes.data.csv\"\n",
    "data = pd.read_csv(data_url, header=None)\n",
    "data.columns = [\"times_pregnant\", \"glucose_concentration\", \"blood_pressure\", \"skinfold_thickness\", \"serum_insulin\", \"bmi\", \"diabetes_pedigree\", \"age\", \"classification\"]\n",
    "\n",
    "# Data Transformation: Normalizing the glucose_concentration column\n",
    "data['glucose_concentration'] = data['glucose_concentration'] / data['glucose_concentration'].max()\n",
    "\n",
    "# Intentionally introduce some invalid values\n",
    "data.at[0, 'glucose_concentration'] = -1.0\n",
    "data.at[1, 'age'] = -5\n",
    "\n",
    "# Data Validation: Validating records against the defined data model\n",
    "invalid_records = []\n",
    "for idx, record in data.iterrows():\n",
    "    try:\n",
    "        DiabetesRecord(**record.to_dict())\n",
    "    except ValidationError as e:\n",
    "        invalid_records.append((idx, str(e)))\n",
    "\n",
    "# Print invalid records\n",
    "for idx, error in invalid_records:\n",
    "    print(f\"Record at index {idx} is invalid: {error}\")"
   ]
  },
  {
   "cell_type": "markdown",
   "id": "6c68d065",
   "metadata": {},
   "source": [
    "<br>\n",
    "\n",
    "<div class=\"alert alert-info\" role=\"alert\">This section provides a detailed demonstration of using data validation frameworks in Python, showcasing how data models can be created and used to validate data records, ensuring data quality and compliance with expected standards. It also introduces data transformation steps, highlighting the interconnectedness of data validation and data engineering in the data preparation process.\n",
    "</div>"
   ]
  },
  {
   "cell_type": "code",
   "execution_count": null,
   "id": "7feabefc",
   "metadata": {},
   "outputs": [],
   "source": []
  }
 ],
 "metadata": {
  "kernelspec": {
   "display_name": "Python 3 (ipykernel)",
   "language": "python",
   "name": "python3"
  },
  "language_info": {
   "codemirror_mode": {
    "name": "ipython",
    "version": 3
   },
   "file_extension": ".py",
   "mimetype": "text/x-python",
   "name": "python",
   "nbconvert_exporter": "python",
   "pygments_lexer": "ipython3",
   "version": "3.9.18"
  }
 },
 "nbformat": 4,
 "nbformat_minor": 5
}
