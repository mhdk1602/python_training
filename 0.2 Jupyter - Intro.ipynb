{
 "cells": [
  {
   "cell_type": "markdown",
   "id": "e13706cc",
   "metadata": {},
   "source": [
    "## Getting started with python3"
   ]
  },
  {
   "cell_type": "markdown",
   "id": "3002cd01",
   "metadata": {},
   "source": [
    "###### By now you must be familiar with an IDE (Integrated Development Environment), viz., Visual Studio, Anaconda, Pycharm etc. Jupyter is a lightweight Python IDE that also extends to other programming kernels such as Julia, Scala, R, etc.\n",
    "\n",
    "###### For this excercise we will focus on setting up the Visual studio on local machine, linking with github and publishing completed notebooks as merge requests. \n",
    "\n",
    "\n",
    "## *Updated Instruction*\n",
    "\n",
    "1. Install git\n",
    "2. Install Visual studio\n",
    "3. Windows users must install \"Anaconda\".\n",
    "4. Set up github account and link it to VisCode. \n",
    "5. You can work with Jupyter notebook directly or install add-on on VisCode."
   ]
  },
  {
   "cell_type": "markdown",
   "id": "0c45dfdc",
   "metadata": {},
   "source": [
    "###### "
   ]
  },
  {
   "cell_type": "markdown",
   "id": "eb82d3ee",
   "metadata": {},
   "source": [
    "### Markdowns in Jupyter notebook.\n",
    "\n",
    "##### Every cell is an executable environment that can produce interim output/results of a code snippet to trace the functionality and feasability of the code. \n",
    "\n",
    "##### In this regard it is much more intuitive to code in an IDE than in a programming terminal as the GUI is more percpetive to understand the progress of your code and test thoroughly. \n",
    "\n",
    "##### To turn off the executable functionality of a cell you need to select the \"MARKDOWN\" option. \n",
    "<img src=\"https://i.ibb.co/SQXG92P/markdown.png\" height = \"300\" width = \"300\">"
   ]
  },
  {
   "cell_type": "markdown",
   "id": "57183b70",
   "metadata": {},
   "source": [
    "##### This will enable you to add headings, context and definitions to your code snippets. \n",
    "\n",
    "###### For example"
   ]
  },
  {
   "cell_type": "markdown",
   "id": "52816818",
   "metadata": {},
   "source": [
    "### First code execution\n",
    "##### To print \"Hello World\""
   ]
  },
  {
   "cell_type": "code",
   "execution_count": 10,
   "id": "80cf4539",
   "metadata": {},
   "outputs": [
    {
     "name": "stdout",
     "output_type": "stream",
     "text": [
      "Hello World\n"
     ]
    }
   ],
   "source": [
    "print(\"Hello World\")"
   ]
  },
  {
   "cell_type": "markdown",
   "id": "b088e952",
   "metadata": {},
   "source": [
    "\n",
    "#### Jupyter notebooks are very versatile to be exported across any platform that supports python or other supporting kernels across all on prem or cloud hosted platforms. \n",
    "\n",
    "#### They provide a very diagnostic environment where every cell execution acts a breakpoint to debug. "
   ]
  },
  {
   "cell_type": "markdown",
   "id": "253d16cb",
   "metadata": {},
   "source": [
    "## Using Jupyter Notebooks: Tips, Tricks, and Add-ons\n",
    "\n",
    "Jupyter Notebooks offer a versatile environment for data engineering, where you can write code, run it, and see the results, all in one place. In this section, we delve into some tips, tricks, and add-ons that can enhance your experience with Jupyter Notebooks.\n",
    "\n",
    "### 1. Utilizing Different Cell Types\n",
    "\n",
    "Jupyter Notebooks consist of different cell types including code cells, markdown cells, and raw cells which allow for both coding and documentation.\n",
    "\n",
    "- **Code Cells**: Used to write and execute Python code. \n",
    "- **Markdown Cells**: Used to write documentation or notes using markdown formatting.\n",
    "- **Raw Cells**: Can contain code but it will not be executed, useful for storing scripts.\n",
    "\n",
    "### 2. Interactive Elements with Widgets\n",
    "\n",
    "You can create interactive elements in Jupyter Notebooks using widgets. Widgets allow users to interact with the code base by adjusting sliders, buttons, and text inputs.\n",
    "\n",
    "- **Example**:\n",
    "\n",
    "  ```python\n",
    "  from ipywidgets import interact\n",
    "  def f(x):\n",
    "      return x\n",
    "  interact(f, x=10)\n",
    "  ```\n",
    "\n",
    "### 3. Display Options with pandas `pd.set_option`\n",
    "\n",
    "To modify the display settings of a pandas DataFrame, you can use the `pd.set_option` method to specify your preferences.\n",
    "\n",
    "- **Example**:\n",
    "\n",
    "  ```python\n",
    "  import pandas as pd\n",
    "  pd.set_option('display.max_columns', 50)\n",
    "  pd.set_option('display.max_rows', 100)\n",
    "  ```\n",
    "\n",
    "### 4. Progress Bars with `tqdm`\n",
    "\n",
    "To track the progress of a loop or a pandas apply function, you can use the `tqdm` library to display a progress bar.\n",
    "\n",
    "- **Example**:\n",
    "\n",
    "  ```python\n",
    "  from tqdm import tqdm\n",
    "  for i in tqdm(range(10000)):\n",
    "      pass\n",
    "  ```\n",
    "\n",
    "### 5. Useful Add-ons\n",
    "\n",
    "- **Jupyter Notebook Extensions**: Enhance the functionality of your Jupyter Notebooks with extensions such as 'Table of Contents', 'Codefolding', and 'Collapsible Headings'.\n",
    "- **Jupyter Themes**: Customize the appearance of your Jupyter Notebook with different themes to suit your preference.\n",
    "- **Nbextensions**: A collection of various notebook extensions which add functionalities to the Jupyter notebook interface.\n",
    "\n",
    "### 6. Keyboard Shortcuts\n",
    "\n",
    "Learning keyboard shortcuts can significantly speed up coding in Jupyter Notebooks. Here are a few:\n",
    "- **Shift + Enter**: Run the current cell and select below.\n",
    "- **Ctrl + Enter**: Run the selected cells.\n",
    "- **Alt + Enter**: Run the current cell and insert a new one below.\n",
    "\n",
    "\n",
    "## Additional Functionalities\n",
    "\n",
    "Jupyter Notebooks are equipped with various functionalities that can significantly enhance the productivity of programmers and data engineers. Here, we explore some of these features, supplemented with examples:\n",
    "\n",
    "### 1. Version Control with Git\n",
    "\n",
    "Jupyter Notebooks can be integrated with Git to manage version control. This integration facilitates tracking changes, reverting to previous versions, and collaborating with others more efficiently.\n",
    "\n",
    "### 2. Magic Commands\n",
    "\n",
    "Magic commands in Jupyter Notebooks are prefixed by `%` (for a single line) or `%%` (for the entire cell). These commands offer functionalities like system shell access and debugging.\n",
    "\n",
    "- **Example**:\n",
    "\n",
    "  ```python\n",
    "  %timeit [x for x in range(1000)]  # This will time the execution of the list comprehension\n",
    "  ```\n",
    "\n",
    "### 3. Shell Commands\n",
    "\n",
    "Shell commands can be directly executed in Jupyter Notebooks by prefixing the command with `!`. This allows for quick access to the system shell directly from the notebook.\n",
    "\n",
    "- **Example**:\n",
    "\n",
    "  ```python\n",
    "  !ls  # This will list files in the current directory\n",
    "  ```\n",
    "\n",
    "### 4. Inline Visualizations\n",
    "\n",
    "Create inline visualizations within the notebook using libraries like Matplotlib and Seaborn to generate plots and charts directly within the notebook.\n",
    "\n",
    "- **Example**:\n",
    "\n",
    "  ```python\n",
    "  import matplotlib.pyplot as plt\n",
    "  plt.plot([1, 2, 3], [4, 5, 6])\n",
    "  plt.show()\n",
    "  ```\n",
    "\n",
    "### 5. Exporting Notebooks\n",
    "\n",
    "Jupyter Notebooks can be exported in various formats, including HTML, PDF, and Markdown, which makes sharing and presenting the work straightforward.\n",
    "\n",
    "### 6. IPython Display\n",
    "\n",
    "The `IPython.display` module provides tools for displaying rich outputs in the notebook, including HTML, images, videos, and more.\n",
    "\n",
    "- **Example**:\n",
    "\n",
    "  ```python\n",
    "  from IPython.display import Image\n",
    "  Image(url='https://www.python.org/static/community_logos/python-logo.png')\n",
    "  ```\n",
    "\n",
    "### 7. Extensions like nbgrader\n",
    "\n",
    "The nbgrader extension is a valuable tool for educators, allowing for the creation and grading of assignments directly within Jupyter Notebooks.\n",
    "\n",
    "### 8. Using JupyterLab\n",
    "\n",
    "JupyterLab serves as the next-generation interface for Jupyter Notebooks, offering a more integrated environment for data science and engineering workflows.\n",
    "\n",
    "### 9. Integrating with Cloud Platforms\n",
    "\n",
    "Jupyter Notebooks can be integrated with cloud platforms like AWS and Google Colab, leveraging powerful computational resources and facilitating collaboration.\n",
    "\n",
    "\n",
    "### Conclusion\n",
    "\n",
    "Jupyter Notebooks serve as a powerful tool in the field of data engineering, offering a blend of code execution, textual content, mathematical equations, and visualizations. By utilizing these tips and tricks, you can optimize your Jupyter Notebook experience, making data engineering tasks more efficient and streamlined.\n",
    "\n",
    "*Source*: [Jupyter Notebook Documentation](https://jupyter-notebook.readthedocs.io/)"
   ]
  },
  {
   "cell_type": "code",
   "execution_count": null,
   "id": "c51333eb",
   "metadata": {},
   "outputs": [],
   "source": []
  }
 ],
 "metadata": {
  "kernelspec": {
   "display_name": "Python 3 (ipykernel)",
   "language": "python",
   "name": "python3"
  },
  "language_info": {
   "codemirror_mode": {
    "name": "ipython",
    "version": 3
   },
   "file_extension": ".py",
   "mimetype": "text/x-python",
   "name": "python",
   "nbconvert_exporter": "python",
   "pygments_lexer": "ipython3",
   "version": "3.9.18"
  }
 },
 "nbformat": 4,
 "nbformat_minor": 5
}
