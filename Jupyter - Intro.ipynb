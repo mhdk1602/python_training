{
 "cells": [
  {
   "cell_type": "markdown",
   "id": "e13706cc",
   "metadata": {},
   "source": [
    "## Getting started with python3"
   ]
  },
  {
   "cell_type": "markdown",
   "id": "3002cd01",
   "metadata": {},
   "source": [
    "###### By now you must be familiar with an IDE (Integrated Development Environment), viz., Visual Studio, Anaconda, Pycharm etc. Jupyter is a lightweight Python IDE that also extends to other programming kernels such as Julia, Scala, R, etc.\n",
    "\n",
    "###### For this excercise we will focus on setting up the Visual studio on local machine, linking with github and publishing completed notebooks as merge requests. \n",
    "\n",
    "###### Please refer to the training materials for setting up VisCode and github organized by Darshna.\n",
    "\n",
    "\n",
    "## *Updated Instruction*\n",
    "\n",
    "1. Install git\n",
    "2. Install Visual studio\n",
    "3. Windows users must install \"Anaconda\".\n",
    "4. Set up github account and link it to VisCode.\n",
    "5. If facing any issues please reach out to Darshna or Supriya for help. \n",
    "6. Use this link to clone the repo https://github.com/mhdk1602/python_training.git and create a new branch labeled \"candidate_name\"_soln (ex, john_harris_soln).\n",
    "7. You can work with Jupyter notebook directly or install add-on on VisCode."
   ]
  },
  {
   "cell_type": "markdown",
   "id": "0c45dfdc",
   "metadata": {},
   "source": [
    "###### "
   ]
  },
  {
   "attachments": {},
   "cell_type": "markdown",
   "id": "eb82d3ee",
   "metadata": {},
   "source": [
    "### Markdowns in Jupyter notebook.\n",
    "\n",
    "##### Every cell is an executable environment that can produce interim output/results of a code snippet to trace the functionality and feasability of the code. \n",
    "\n",
    "##### In this regard it is much more intuitive to code in an IDE than in a programming terminal as the GUI is more percpetive to understand the progress of your code and test thoroughly. \n",
    "\n",
    "##### To turn off the executable functionality of a cell you need to select the \"MARKDOWN\" option. \n",
    "<img src=\"https://i.ibb.co/SQXG92P/markdown.png\" height = \"300\" width = \"300\">"
   ]
  },
  {
   "attachments": {},
   "cell_type": "markdown",
   "id": "57183b70",
   "metadata": {},
   "source": [
    "##### This will enable you to add headings, context and definitions to your code snippets. \n",
    "\n",
    "###### For example"
   ]
  },
  {
   "cell_type": "markdown",
   "id": "52816818",
   "metadata": {},
   "source": [
    "### First code execution\n",
    "##### To print \"Hello World\""
   ]
  },
  {
   "cell_type": "code",
   "execution_count": 10,
   "id": "80cf4539",
   "metadata": {},
   "outputs": [
    {
     "name": "stdout",
     "output_type": "stream",
     "text": [
      "Hello World\n"
     ]
    }
   ],
   "source": [
    "print(\"Hello World\")"
   ]
  },
  {
   "cell_type": "markdown",
   "id": "b088e952",
   "metadata": {},
   "source": [
    "\n",
    "#### Jupyter notebooks are very versatile to be exported across any platform that supports python or other supporting kernels across all on prem or cloud hosted platforms. \n",
    "\n",
    "#### They provide a very diagnostic environment where every cell execution acts a breakpoint to debug. "
   ]
  }
 ],
 "metadata": {
  "kernelspec": {
   "display_name": "Python 3 (ipykernel)",
   "language": "python",
   "name": "python3"
  },
  "language_info": {
   "codemirror_mode": {
    "name": "ipython",
    "version": 3
   },
   "file_extension": ".py",
   "mimetype": "text/x-python",
   "name": "python",
   "nbconvert_exporter": "python",
   "pygments_lexer": "ipython3",
   "version": "3.9.16"
  }
 },
 "nbformat": 4,
 "nbformat_minor": 5
}
