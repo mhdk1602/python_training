{
 "cells": [
  {
   "cell_type": "markdown",
   "id": "eb0577bd",
   "metadata": {},
   "source": [
    "## Looping"
   ]
  },
  {
   "cell_type": "markdown",
   "id": "fd2f8c90",
   "metadata": {},
   "source": [
    "Having learnt about collection of objects in the previous chapter, we will learn about traversing through them using the 2 looping techniques in python viz., <font color = 'blue'><tt>for</tt></font>, and <font color = 'blue'><tt>while</tt></font> loop \n",
    "\n",
    "\n",
    "For loops are used to iterate through a sequence of values in a collection\n",
    "\n",
    "For ex:\n",
    "<div><code><font color = 'indigo'>x = [1,2,3,4,5,6]\n",
    "for i in x:\n",
    "    print(i)</div></font></code><br>\n",
    "\n",
    "\n",
    "<font color = 'DarkCyan'>Exercise</font><br><br>\n",
    "1. Print only alternate elements from the above list using <font color = 'blue'><tt>for</tt></font> loop\n",
    "\n",
    "\n",
    "<p>&nbsp;&nbsp;&nbsp;&nbsp;&nbsp;&nbsp;&nbsp;Looping can also be used without data struct objects, for ex lets say you want to print the first 20 numbers <font color = 'maroon'>(including 0 - since in python the index starts from 0, not 1)</font><br><br></p>\n",
    "    \n",
    "    \n",
    "<div><code><font color = 'indigo'>for i in range(20):\n",
    "    print(i)</div></font></code><br>\n",
    "    \n",
    "    \n",
    "You can also generate a pseudo dictionary or a key/value pair using <font color = 'blue'><tt>for</tt></font> loop and <font color = 'blue'><tt>enumerate</tt></font> funtion\n",
    "\n",
    "\n",
    "For example in the previous chapter I had asked to work on printing the values of elements along with their indices which was joined from another list, alternatively it can be done as below<br><br>\n",
    "\n",
    "\n",
    "<div><code><font color = 'indigo'>x = ['Java', 'Python', 'Golang', 'Rust', 'Julia', React']\n",
    "for i,j in enumerate(x):\n",
    "    print(i, j)</div></font></code><br>\n",
    "    "
   ]
  },
  {
   "cell_type": "markdown",
   "id": "7f073a7b",
   "metadata": {},
   "source": []
  }
 ],
 "metadata": {
  "kernelspec": {
   "display_name": "Python 3 (ipykernel)",
   "language": "python",
   "name": "python3"
  },
  "language_info": {
   "codemirror_mode": {
    "name": "ipython",
    "version": 3
   },
   "file_extension": ".py",
   "mimetype": "text/x-python",
   "name": "python",
   "nbconvert_exporter": "python",
   "pygments_lexer": "ipython3",
   "version": "3.9.16"
  }
 },
 "nbformat": 4,
 "nbformat_minor": 5
}
